{
 "cells": [
  {
   "cell_type": "code",
   "execution_count": 151,
   "id": "1f72f084",
   "metadata": {},
   "outputs": [],
   "source": [
    "import numpy as np\n",
    "import pandas as pd\n",
    "from sklearn import preprocessing\n",
    "import matplotlib.pyplot as plt\n",
    "import random"
   ]
  },
  {
   "cell_type": "code",
   "execution_count": 152,
   "id": "15345fec",
   "metadata": {},
   "outputs": [
    {
     "data": {
      "text/html": [
       "<div>\n",
       "<style scoped>\n",
       "    .dataframe tbody tr th:only-of-type {\n",
       "        vertical-align: middle;\n",
       "    }\n",
       "\n",
       "    .dataframe tbody tr th {\n",
       "        vertical-align: top;\n",
       "    }\n",
       "\n",
       "    .dataframe thead th {\n",
       "        text-align: right;\n",
       "    }\n",
       "</style>\n",
       "<table border=\"1\" class=\"dataframe\">\n",
       "  <thead>\n",
       "    <tr style=\"text-align: right;\">\n",
       "      <th></th>\n",
       "      <th>area</th>\n",
       "      <th>bedrooms</th>\n",
       "      <th>price</th>\n",
       "    </tr>\n",
       "  </thead>\n",
       "  <tbody>\n",
       "    <tr>\n",
       "      <th>0</th>\n",
       "      <td>1056</td>\n",
       "      <td>2</td>\n",
       "      <td>39.07</td>\n",
       "    </tr>\n",
       "    <tr>\n",
       "      <th>1</th>\n",
       "      <td>2600</td>\n",
       "      <td>4</td>\n",
       "      <td>120.00</td>\n",
       "    </tr>\n",
       "    <tr>\n",
       "      <th>2</th>\n",
       "      <td>1440</td>\n",
       "      <td>3</td>\n",
       "      <td>62.00</td>\n",
       "    </tr>\n",
       "    <tr>\n",
       "      <th>3</th>\n",
       "      <td>1521</td>\n",
       "      <td>3</td>\n",
       "      <td>75.00</td>\n",
       "    </tr>\n",
       "    <tr>\n",
       "      <th>4</th>\n",
       "      <td>1200</td>\n",
       "      <td>2</td>\n",
       "      <td>51.00</td>\n",
       "    </tr>\n",
       "  </tbody>\n",
       "</table>\n",
       "</div>"
      ],
      "text/plain": [
       "   area  bedrooms   price\n",
       "0  1056         2   39.07\n",
       "1  2600         4  120.00\n",
       "2  1440         3   62.00\n",
       "3  1521         3   75.00\n",
       "4  1200         2   51.00"
      ]
     },
     "execution_count": 152,
     "metadata": {},
     "output_type": "execute_result"
    }
   ],
   "source": [
    "df = pd.read_csv('homeprices_banglore.csv')\n",
    "df.head()"
   ]
  },
  {
   "cell_type": "code",
   "execution_count": 153,
   "id": "2f2ff056",
   "metadata": {},
   "outputs": [],
   "source": [
    "sx = preprocessing.MinMaxScaler()\n",
    "sy = preprocessing.MinMaxScaler()\n",
    "\n",
    "y_scaled = sy.fit_transform(df[['price']])\n",
    "x_scaled = sx.fit_transform(df.drop(df[['price']], axis='columns'))"
   ]
  },
  {
   "cell_type": "code",
   "execution_count": 69,
   "id": "45b2f707",
   "metadata": {},
   "outputs": [
    {
     "data": {
      "text/plain": [
       "0.5925113301117781"
      ]
     },
     "execution_count": 69,
     "metadata": {},
     "output_type": "execute_result"
    }
   ],
   "source": [
    "bias = 0\n",
    "features_num = x_scaled.shape[1]\n",
    "weights = np.ones(features_num)\n",
    "\n",
    "y_predicted = np.dot(weights, x_scaled.T) + bias\n",
    "\n",
    "cost = np.mean(np.square(y_predicted-y_scaled))\n",
    "cost"
   ]
  },
  {
   "cell_type": "code",
   "execution_count": 142,
   "id": "87463f82",
   "metadata": {},
   "outputs": [],
   "source": [
    "def Batch_GD(x, y_true, epochs, l_rate=0.01):\n",
    "    features_num = x.shape[1]\n",
    "    weights = np.ones(shape=(features_num))\n",
    "    bias = 0\n",
    "    n = x.shape[0]\n",
    "    cost_list = []\n",
    "    epochs_list = []\n",
    "    \n",
    "    for i in range(epochs):\n",
    "        \n",
    "        y_predicted = np.dot(weights, x.T) + bias\n",
    "        \n",
    "        w_grad = -(2/n)*(x.T.dot(y_true-y_predicted))\n",
    "        b_grad = -(2/n)*np.sum(y_true-y_predicted)\n",
    "        \n",
    "        weights = weights - l_rate * w_grad\n",
    "        bias = bias - l_rate * b_grad\n",
    "\n",
    "        cost = np.mean(np.square(y_true-y_predicted))\n",
    "                \n",
    "        if i%10 == 0:\n",
    "            cost_list.append(cost)\n",
    "            epochs_list.append(i)\n",
    "        \n",
    "    return weights, bias, cost_list, epochs_list\n",
    "\n",
    "wt, bs, cost_ls, epochs_ls = Batch_GD(x_scaled, y_scaled.T[0], 500)"
   ]
  },
  {
   "cell_type": "code",
   "execution_count": 143,
   "id": "09db7a07",
   "metadata": {},
   "outputs": [
    {
     "data": {
      "text/plain": [
       "[<matplotlib.lines.Line2D at 0x7f19222781f0>]"
      ]
     },
     "execution_count": 143,
     "metadata": {},
     "output_type": "execute_result"
    },
    {
     "data": {
      "image/png": "[encoded data removed]",
      "text/plain": [
       "<Figure size 432x288 with 1 Axes>"
      ]
     },
     "metadata": {
      "needs_background": "light"
     },
     "output_type": "display_data"
    }
   ],
   "source": [
    "plt.xlabel('epochs')\n",
    "plt.ylabel('cost')\n",
    "plt.plot(epochs_ls, cost_ls)"
   ]
  },
  {
   "cell_type": "code",
   "execution_count": 147,
   "id": "16dcf629",
   "metadata": {},
   "outputs": [
    {
     "data": {
      "text/plain": [
       "array([0.05237037, 0.65185185, 0.22222222, 0.31851852, 0.14074074,\n",
       "       0.04444444, 0.76296296, 0.91111111, 0.13333333, 1.        ,\n",
       "       0.37037037, 0.8       , 0.04444444, 0.05925926, 0.51111111,\n",
       "       0.07407407, 0.11851852, 0.20740741, 0.51851852, 0.        ])"
      ]
     },
     "execution_count": 147,
     "metadata": {},
     "output_type": "execute_result"
    }
   ],
   "source": [
    "x_scaled.shape[1]\n",
    "x_scaled[random.randint(0,6)]\n",
    "y_scaled.T[0]"
   ]
  },
  {
   "cell_type": "code",
   "execution_count": 166,
   "id": "7e917d95",
   "metadata": {},
   "outputs": [],
   "source": [
    "def stoichasticGD(x, y_true, epochs, l_rate=0.01):\n",
    "    feature_num = x.shape[1]\n",
    "    weights = np.ones(feature_num)\n",
    "    bias = 0 \n",
    "    n = x.shape[0]\n",
    "    cost_list = []\n",
    "    epochs_list = []\n",
    "    \n",
    "    for i in range(epochs):\n",
    "        index = random.randint(0,n-1)\n",
    "        new_x = x[index]\n",
    "        y = y_true[index]\n",
    "    \n",
    "        y_predicted = np.dot(new_x.T, weights) + bias\n",
    "        \n",
    "        w_grad = -(2/n)*(new_x.T.dot(y-y_predicted))\n",
    "        b_grad = -(2/n)*(y-y_predicted)\n",
    "        \n",
    "        weights = weights - l_rate*w_grad\n",
    "        bias = bias - l_rate*b_grad\n",
    "        \n",
    "        cost = np.square(y-y_predicted)\n",
    "        \n",
    "        if i%10 == 0:\n",
    "            cost_list.append(cost)\n",
    "            epochs_list.append(i)\n",
    "    return weights, bias, cost_list, epochs_list\n",
    "\n",
    "wt, bs, cost_ls, epochs_ls = stoichasticGD(x_scaled, y_scaled.T[0], 3000)"
   ]
  },
  {
   "cell_type": "code",
   "execution_count": 167,
   "id": "ac78ec97",
   "metadata": {},
   "outputs": [
    {
     "data": {
      "text/plain": [
       "[<matplotlib.lines.Line2D at 0x7f192208a280>]"
      ]
     },
     "execution_count": 167,
     "metadata": {},
     "output_type": "execute_result"
    },
    {
     "data": {
      "image/png": "[encoded data removed]",
      "text/plain": [
       "<Figure size 432x288 with 1 Axes>"
      ]
     },
     "metadata": {
      "needs_background": "light"
     },
     "output_type": "display_data"
    }
   ],
   "source": [
    "plt.plot(epochs_ls, cost_ls)\n"
   ]
  },
  {
   "cell_type": "code",
   "execution_count": null,
   "id": "53c8380f",
   "metadata": {},
   "outputs": [],
   "source": []
  }
 ],
 "metadata": {
  "kernelspec": {
   "display_name": "Python 3",
   "language": "python",
   "name": "python3"
  },
  "language_info": {
   "codemirror_mode": {
    "name": "ipython",
    "version": 3
   },
   "file_extension": ".py",
   "mimetype": "text/x-python",
   "name": "python",
   "nbconvert_exporter": "python",
   "pygments_lexer": "ipython3",
   "version": "3.8.5"
  }
 },
 "nbformat": 4,
 "nbformat_minor": 5
}

{
 "cells": [
  {
   "cell_type": "code",
   "execution_count": 1,
   "id": "a6fb852d",
   "metadata": {},
   "outputs": [],
   "source": [
    "import numpy as np"
   ]
  },
  {
   "cell_type": "code",
   "execution_count": 2,
   "id": "f84d90fa",
   "metadata": {},
   "outputs": [],
   "source": [
    "revenue = np.array([[180,200,220],\n",
    "                    [24,36,40],\n",
    "                    [12,18,20]])\n",
    "\n",
    "expenses = np.array([[80,90,100],\n",
    "                     [10,16,20],\n",
    "                     [8,10,10]])"
   ]
  },
  {
   "cell_type": "code",
   "execution_count": 3,
   "id": "15cb43ae",
   "metadata": {},
   "outputs": [],
   "source": [
    "profit = revenue - expenses"
   ]
  },
  {
   "cell_type": "code",
   "execution_count": 4,
   "id": "780ac9c7",
   "metadata": {},
   "outputs": [
    {
     "data": {
      "text/plain": [
       "array([[100, 110, 120],\n",
       "       [ 14,  20,  20],\n",
       "       [  4,   8,  10]])"
      ]
     },
     "execution_count": 4,
     "metadata": {},
     "output_type": "execute_result"
    }
   ],
   "source": [
    "profit"
   ]
  },
  {
   "cell_type": "code",
   "execution_count": 5,
   "id": "f6a18d27",
   "metadata": {},
   "outputs": [],
   "source": [
    "price_per_unit = np.array([[1000,400,1200]])\n",
    "units = np.array([[30,40,50],\n",
    "                  [5,10,15],\n",
    "                  [2,5,7]])"
   ]
  },
  {
   "cell_type": "code",
   "execution_count": 6,
   "id": "d3b9c4b0",
   "metadata": {},
   "outputs": [
    {
     "data": {
      "text/plain": [
       "array([[34400, 50000, 64400]])"
      ]
     },
     "execution_count": 6,
     "metadata": {},
     "output_type": "execute_result"
    }
   ],
   "source": [
    "np.dot(price_per_unit, units)"
   ]
  },
  {
   "cell_type": "code",
   "execution_count": 7,
   "id": "e1407762",
   "metadata": {},
   "outputs": [],
   "source": [
    "revenue_in_dollar = np.array([\n",
    "    [200, 220, 250],\n",
    "    [68, 79, 105],\n",
    "    [110, 140, 180],\n",
    "    [80, 85, 90]\n",
    "])"
   ]
  },
  {
   "cell_type": "code",
   "execution_count": 8,
   "id": "5ed3f432",
   "metadata": {},
   "outputs": [
    {
     "data": {
      "text/plain": [
       "array([[15000, 16500, 18750],\n",
       "       [ 5100,  5925,  7875],\n",
       "       [ 8250, 10500, 13500],\n",
       "       [ 6000,  6375,  6750]])"
      ]
     },
     "execution_count": 8,
     "metadata": {},
     "output_type": "execute_result"
    }
   ],
   "source": [
    "revenue_in_dollar*75"
   ]
  },
  {
   "cell_type": "code",
   "execution_count": 13,
   "id": "290a59fe",
   "metadata": {},
   "outputs": [],
   "source": [
    "unit_sold = np.array([\n",
    "    [50, 60, 25],\n",
    "    [10, 13, 5],\n",
    "    [40, 70, 52]\n",
    "])\n",
    "per_unit = np.array([[20,30,15]])"
   ]
  },
  {
   "cell_type": "code",
   "execution_count": 14,
   "id": "cd6d68ea",
   "metadata": {},
   "outputs": [
    {
     "data": {
      "text/plain": [
       "array([[1900, 2640, 1430]])"
      ]
     },
     "execution_count": 14,
     "metadata": {},
     "output_type": "execute_result"
    }
   ],
   "source": [
    "np.dot(per_unit, unit_sold)"
   ]
  },
  {
   "cell_type": "code",
   "execution_count": null,
   "id": "3ecf9426",
   "metadata": {},
   "outputs": [],
   "source": []
  }
 ],
 "metadata": {
  "kernelspec": {
   "display_name": "Python 3",
   "language": "python",
   "name": "python3"
  },
  "language_info": {
   "codemirror_mode": {
    "name": "ipython",
    "version": 3
   },
   "file_extension": ".py",
   "mimetype": "text/x-python",
   "name": "python",
   "nbconvert_exporter": "python",
   "pygments_lexer": "ipython3",
   "version": "3.8.5"
  }
 },
 "nbformat": 4,
 "nbformat_minor": 5
}

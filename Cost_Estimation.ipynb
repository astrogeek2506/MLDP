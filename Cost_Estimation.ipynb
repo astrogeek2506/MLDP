{
 "cells": [
  {
   "cell_type": "code",
   "execution_count": 6,
   "id": "df2ed248",
   "metadata": {},
   "outputs": [],
   "source": [
    "import numpy as np"
   ]
  },
  {
   "cell_type": "code",
   "execution_count": 59,
   "id": "8f103e91",
   "metadata": {},
   "outputs": [],
   "source": [
    "y_predicted = np.array([1,1,0,0,1])\n",
    "y_true = np.array([0.30,0.7,1,0,0.5])"
   ]
  },
  {
   "cell_type": "markdown",
   "id": "578366d4",
   "metadata": {},
   "source": [
    "Mean Absolute error:"
   ]
  },
  {
   "cell_type": "code",
   "execution_count": 30,
   "id": "e3074737",
   "metadata": {},
   "outputs": [
    {
     "name": "stdout",
     "output_type": "stream",
     "text": [
      "total_error:  2.5\n",
      "Mean absolute error:  0.5\n"
     ]
    }
   ],
   "source": [
    "def mae(y_predicted, y_true):\n",
    "    total_error = 0\n",
    "    for yp, yt in zip(y_predicted, y_true):\n",
    "        total_error += abs(yp - yt)\n",
    "    print('total_error: ', total_error)\n",
    "    mae = total_error / len(y_true)\n",
    "    print(\"Mean absolute error: \", mse)\n",
    "mse(y_predicted, y_true)"
   ]
  },
  {
   "cell_type": "code",
   "execution_count": 31,
   "id": "393a77bd",
   "metadata": {},
   "outputs": [
    {
     "data": {
      "text/plain": [
       "2.5"
      ]
     },
     "execution_count": 31,
     "metadata": {},
     "output_type": "execute_result"
    }
   ],
   "source": [
    "# total_error\n",
    "np.sum(np.abs(y_predicted - y_true))"
   ]
  },
  {
   "cell_type": "code",
   "execution_count": 32,
   "id": "3a9130fc",
   "metadata": {},
   "outputs": [
    {
     "data": {
      "text/plain": [
       "0.5"
      ]
     },
     "execution_count": 32,
     "metadata": {},
     "output_type": "execute_result"
    }
   ],
   "source": [
    "# mse\n",
    "np.mean(np.abs(y_predicted - y_true))"
   ]
  },
  {
   "cell_type": "markdown",
   "id": "af4298ca",
   "metadata": {},
   "source": [
    "Log_Loss/Binary_cross_entropy:"
   ]
  },
  {
   "cell_type": "code",
   "execution_count": 41,
   "id": "fc1e07b3",
   "metadata": {},
   "outputs": [
    {
     "data": {
      "text/plain": [
       "[0.9999999999999999, 0.9999999999999999, 1e-16, 1e-16, 0.9999999999999999]"
      ]
     },
     "execution_count": 41,
     "metadata": {},
     "output_type": "execute_result"
    }
   ],
   "source": [
    "epsilon = 1e-16\n",
    "\n",
    "y_predicted_new = [max(i, epsilon) for i in y_predicted]\n",
    "y_predicted_new = [min(i, 1-epsilon) for i in y_predicted_new]\n",
    "\n",
    "\n",
    "y_predicted_new"
   ]
  },
  {
   "cell_type": "code",
   "execution_count": 50,
   "id": "4640e151",
   "metadata": {},
   "outputs": [],
   "source": [
    "def log_loss(y_true, y_predicted):\n",
    "    epsilon = 1e-16\n",
    "    y_predicted_new = [max(i,epsilon) for i in y_predicted]\n",
    "    y_predicted_new = [min(i,1-epsilon) for i in y_predicted_new]\n",
    "    y_predicted_new = np.array(y_predicted_new)\n",
    "    return -np.mean(y_true*np.log(y_predicted_new)+(1-y_true)*np.log(1-y_predicted_new))"
   ]
  },
  {
   "cell_type": "code",
   "execution_count": 51,
   "id": "8c284656",
   "metadata": {},
   "outputs": [
    {
     "data": {
      "text/plain": [
       "18.389312468484075"
      ]
     },
     "execution_count": 51,
     "metadata": {},
     "output_type": "execute_result"
    }
   ],
   "source": [
    "log_loss(y_true, y_predicted_new)"
   ]
  },
  {
   "cell_type": "markdown",
   "id": "9786208b",
   "metadata": {},
   "source": [
    "Mean Squared Error:"
   ]
  },
  {
   "cell_type": "code",
   "execution_count": 56,
   "id": "eeee4d32",
   "metadata": {},
   "outputs": [],
   "source": [
    "def mse(y_predicted, ytrue):\n",
    "    total_error_sq = 0\n",
    "    for yp, yt in zip(y_predicted, y_true):\n",
    "        total_error_sq += (yp - yt)**2\n",
    "    print(\"total squared error: \", total_error_sq)\n",
    "    mse = total_error_sq / len(y_true)\n",
    "    print(\"Mean squared error: \", mse)"
   ]
  },
  {
   "cell_type": "code",
   "execution_count": 57,
   "id": "1bd07b17",
   "metadata": {},
   "outputs": [
    {
     "name": "stdout",
     "output_type": "stream",
     "text": [
      "total squared error:  1.83\n",
      "Mean squared error:  0.366\n"
     ]
    }
   ],
   "source": [
    "mse(y_predicted, y_true)"
   ]
  },
  {
   "cell_type": "code",
   "execution_count": 60,
   "id": "f6f6b80b",
   "metadata": {},
   "outputs": [
    {
     "data": {
      "text/plain": [
       "0.366"
      ]
     },
     "execution_count": 60,
     "metadata": {},
     "output_type": "execute_result"
    }
   ],
   "source": [
    "np.mean(np.square(y_predicted-y_true))"
   ]
  },
  {
   "cell_type": "code",
   "execution_count": null,
   "id": "a1d5e777",
   "metadata": {},
   "outputs": [],
   "source": []
  }
 ],
 "metadata": {
  "kernelspec": {
   "display_name": "Python 3",
   "language": "python",
   "name": "python3"
  },
  "language_info": {
   "codemirror_mode": {
    "name": "ipython",
    "version": 3
   },
   "file_extension": ".py",
   "mimetype": "text/x-python",
   "name": "python",
   "nbconvert_exporter": "python",
   "pygments_lexer": "ipython3",
   "version": "3.8.5"
  }
 },
 "nbformat": 4,
 "nbformat_minor": 5
}
